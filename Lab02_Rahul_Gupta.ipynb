{
  "cells": [
    {
      "cell_type": "markdown",
      "metadata": {
        "id": "9vHxdGz36nJR"
      },
      "source": [
        "## Advanced Data Structures"
      ]
    },
    {
      "cell_type": "markdown",
      "metadata": {
        "id": "8lwp0Vd06nJT"
      },
      "source": [
        "In this activity you will be doing the following tasks:\n",
        "\n",
        "- Look up the definition of permutations, and dropwhile from [itertools documentation](https://docs.python.org/3/library/itertools.html) in Python\n",
        "- Using permutations generate all possible three digit numbers that can be generated using 0, 1, and 2\n",
        "- Loop over this iterator and print them and also use `type` and `isinstance` to make sure that the return types are tuples\n",
        "- Use a single line code involving `dropwhile` and an lambda expression to convert all the tuples to lists while dropping any leading zeros (example - `(0, 1, 2)` becomes `[1, 2]`)\n",
        "- Write a function which takes a list like above and returns the actual number contained in it. Example - if you pass `[1, 2]` to the function it will return you `12`. Make sure it is indeed a number and not just a concatenated string. (Hint - You will need to treat the incoming list as a stack in the function to achieve this)"
      ]
    },
    {
      "cell_type": "markdown",
      "metadata": {
        "id": "n9tBlpPM6nJU"
      },
      "source": [
        "**This lab may require a little bit of creativity on your part. So feel free to Google around and find what's needed.**"
      ]
    },
    {
      "cell_type": "markdown",
      "metadata": {
        "id": "I0Ebvzey6nJU"
      },
      "source": [
        "### Task 1 (2 marks)\n",
        "\n",
        "Look up the definition of `permutations` and `dropwhile` from __itertools__.\n",
        "\n",
        "There is a way to look up the definition of a function inside Jupyter itself. Just type the function name followed by a `?` and press `Shift+Enter`."
      ]
    },
    {
      "cell_type": "code",
      "execution_count": 2,
      "metadata": {
        "id": "ADD3Y4bs6nJU"
      },
      "outputs": [],
      "source": [
        "### Write your code bellow this comment."
      ]
    },
    {
      "cell_type": "code",
      "source": [
        "import itertools"
      ],
      "metadata": {
        "id": "MIQqPf4-6zo7"
      },
      "execution_count": 3,
      "outputs": []
    },
    {
      "cell_type": "code",
      "source": [
        "help(itertools.permutations)"
      ],
      "metadata": {
        "colab": {
          "base_uri": "https://localhost:8080/"
        },
        "id": "4k6FS1CW6vE2",
        "outputId": "cb3c4ad2-3891-47c3-ea01-f4bde9ce4a95"
      },
      "execution_count": 4,
      "outputs": [
        {
          "output_type": "stream",
          "name": "stdout",
          "text": [
            "Help on class permutations in module itertools:\n",
            "\n",
            "class permutations(builtins.object)\n",
            " |  permutations(iterable, r=None)\n",
            " |  \n",
            " |  Return successive r-length permutations of elements in the iterable.\n",
            " |  \n",
            " |  permutations(range(3), 2) --> (0,1), (0,2), (1,0), (1,2), (2,0), (2,1)\n",
            " |  \n",
            " |  Methods defined here:\n",
            " |  \n",
            " |  __getattribute__(self, name, /)\n",
            " |      Return getattr(self, name).\n",
            " |  \n",
            " |  __iter__(self, /)\n",
            " |      Implement iter(self).\n",
            " |  \n",
            " |  __next__(self, /)\n",
            " |      Implement next(self).\n",
            " |  \n",
            " |  __reduce__(...)\n",
            " |      Return state information for pickling.\n",
            " |  \n",
            " |  __setstate__(...)\n",
            " |      Set state information for unpickling.\n",
            " |  \n",
            " |  __sizeof__(...)\n",
            " |      Returns size in memory, in bytes.\n",
            " |  \n",
            " |  ----------------------------------------------------------------------\n",
            " |  Static methods defined here:\n",
            " |  \n",
            " |  __new__(*args, **kwargs) from builtins.type\n",
            " |      Create and return a new object.  See help(type) for accurate signature.\n",
            "\n"
          ]
        }
      ]
    },
    {
      "cell_type": "code",
      "source": [
        "help(itertools.dropwhile)"
      ],
      "metadata": {
        "colab": {
          "base_uri": "https://localhost:8080/"
        },
        "id": "F4bJtu-86-QN",
        "outputId": "c625930f-47ad-4cf4-9e23-3be27fb144d7"
      },
      "execution_count": 5,
      "outputs": [
        {
          "output_type": "stream",
          "name": "stdout",
          "text": [
            "Help on class dropwhile in module itertools:\n",
            "\n",
            "class dropwhile(builtins.object)\n",
            " |  dropwhile(predicate, iterable, /)\n",
            " |  \n",
            " |  Drop items from the iterable while predicate(item) is true.\n",
            " |  \n",
            " |  Afterwards, return every element until the iterable is exhausted.\n",
            " |  \n",
            " |  Methods defined here:\n",
            " |  \n",
            " |  __getattribute__(self, name, /)\n",
            " |      Return getattr(self, name).\n",
            " |  \n",
            " |  __iter__(self, /)\n",
            " |      Implement iter(self).\n",
            " |  \n",
            " |  __next__(self, /)\n",
            " |      Implement next(self).\n",
            " |  \n",
            " |  __reduce__(...)\n",
            " |      Return state information for pickling.\n",
            " |  \n",
            " |  __setstate__(...)\n",
            " |      Set state information for unpickling.\n",
            " |  \n",
            " |  ----------------------------------------------------------------------\n",
            " |  Static methods defined here:\n",
            " |  \n",
            " |  __new__(*args, **kwargs) from builtins.type\n",
            " |      Create and return a new object.  See help(type) for accurate signature.\n",
            "\n"
          ]
        }
      ]
    },
    {
      "cell_type": "markdown",
      "metadata": {
        "id": "lpTFlp-O6nJV"
      },
      "source": [
        "### Task 2 (1 mark)\n",
        "\n",
        "Using permutations, write an expression to generate all possible three digit numbers that can be generated using 0, 1, and 2."
      ]
    },
    {
      "cell_type": "code",
      "execution_count": 6,
      "metadata": {
        "id": "GRrc8nuW6nJV"
      },
      "outputs": [],
      "source": [
        "### Write your code bellow this comment.\n"
      ]
    },
    {
      "cell_type": "code",
      "source": [
        "from itertools import permutations\n",
        "\n",
        "three_digit_number=itertools.permutations([0,1,2])\n",
        "\n",
        "for x in three_digit_number:\n",
        "  print(x)"
      ],
      "metadata": {
        "colab": {
          "base_uri": "https://localhost:8080/"
        },
        "id": "JyBO7L_C7iFc",
        "outputId": "cc6dd071-5100-447a-f005-0fb20d939805"
      },
      "execution_count": 7,
      "outputs": [
        {
          "output_type": "stream",
          "name": "stdout",
          "text": [
            "(0, 1, 2)\n",
            "(0, 2, 1)\n",
            "(1, 0, 2)\n",
            "(1, 2, 0)\n",
            "(2, 0, 1)\n",
            "(2, 1, 0)\n"
          ]
        }
      ]
    },
    {
      "cell_type": "markdown",
      "metadata": {
        "id": "fL21sB386nJW"
      },
      "source": [
        "### Task 3 (2 marks)\n",
        "\n",
        "Loop over the iterator expression you generated in the above task. Use `print` to print each element returned by the iterator. Use `assert` and `isinstance` to make sure that the elements are of type _tuple_."
      ]
    },
    {
      "cell_type": "markdown",
      "metadata": {
        "id": "f4mU8HoU6nJW"
      },
      "source": [
        "The output should match the following:"
      ]
    },
    {
      "cell_type": "markdown",
      "metadata": {
        "id": "05teghBP6nJX"
      },
      "source": [
        "<img src=\"figs/task3.png\" width=\"80\" height=\"80\" align=\"left\">"
      ]
    },
    {
      "cell_type": "code",
      "execution_count": 8,
      "metadata": {
        "colab": {
          "base_uri": "https://localhost:8080/"
        },
        "id": "1wfau_Oo6nJX",
        "outputId": "681eebfa-f267-40df-854a-38e9e8df8f90"
      },
      "outputs": [
        {
          "output_type": "stream",
          "name": "stdout",
          "text": [
            "(0, 1, 2)\n",
            "(0, 2, 1)\n",
            "(1, 0, 2)\n",
            "(1, 2, 0)\n",
            "(2, 0, 1)\n",
            "(2, 1, 0)\n"
          ]
        }
      ],
      "source": [
        "### Write your code bellow this comment.\n",
        "from itertools import permutations\n",
        "\n",
        "three_digit_number=itertools.permutations([0,1,2])\n",
        "\n",
        "for x in three_digit_number:\n",
        "  y=tuple(x)\n",
        "  assert isinstance(y, tuple)\n",
        "  print(y)"
      ]
    },
    {
      "cell_type": "markdown",
      "metadata": {
        "id": "-SfFZBGi6nJX"
      },
      "source": [
        "### Task 4 (2 marks)\n",
        "\n",
        "Loop over the iterator expression again. But this time use `dropwhile` with a __lambda__ expression to drop any leading zeros from the tuples. As an example `(0, 1, 2)` will become `[1, 2]`. Also cast the output of the dropwhile to a list.\n",
        "\n",
        "The output should match the following:"
      ]
    },
    {
      "cell_type": "markdown",
      "metadata": {
        "id": "GwLtK1k96nJX"
      },
      "source": [
        "<img src=\"figs/task4.png\" width=\"80\" height=\"80\" align=\"left\">"
      ]
    },
    {
      "cell_type": "code",
      "execution_count": 14,
      "metadata": {
        "colab": {
          "base_uri": "https://localhost:8080/"
        },
        "id": "K2C0BkX86nJY",
        "outputId": "94333f6e-b632-4b85-da75-3eb1f2a1651d"
      },
      "outputs": [
        {
          "output_type": "stream",
          "name": "stdout",
          "text": [
            "[1, 2]\n",
            "[2, 1]\n",
            "[1, 0, 2]\n",
            "[1, 2, 0]\n",
            "[2, 0, 1]\n",
            "[2, 1, 0]\n"
          ]
        }
      ],
      "source": [
        "### Write your code bellow this comment.\n",
        "from itertools import dropwhile\n",
        "from itertools import permutations\n",
        "\n",
        "task_4_val = itertools.permutations([0,1,2])\n",
        "for i in task_4_val:\n",
        "    drop = list(itertools.dropwhile(lambda x: x==0, i))\n",
        "    print(drop)"
      ]
    },
    {
      "cell_type": "markdown",
      "metadata": {
        "id": "LN-1LS9s6nJY"
      },
      "source": [
        "### Task 5 (3 marks)\n",
        "\n",
        "Write all the logic you had written above, but this time write a separate function where you will be passing the list generated from dropwhile and the function will return the whole number contained in the list. As an example if you pass `[1, 2]` to the function it will return 12 to you. Make sure that the return type is indeed a number and not a string. Although this task can be achieved using some other tricks, we require that you treat the incoming list as a stack in the function and generate the number there."
      ]
    },
    {
      "cell_type": "markdown",
      "metadata": {
        "id": "YEG-Hc8r6nJY"
      },
      "source": [
        "The output should match the following:"
      ]
    },
    {
      "cell_type": "markdown",
      "metadata": {
        "id": "sVudOZpp6nJY"
      },
      "source": [
        "<img src=\"figs/task5.png\" width=\"50\" height=\"50\" align=\"left\">"
      ]
    },
    {
      "cell_type": "code",
      "execution_count": 12,
      "metadata": {
        "colab": {
          "base_uri": "https://localhost:8080/"
        },
        "id": "0VrfUiFB6nJY",
        "outputId": "fc703017-e45e-4cbc-c000-98777008306c"
      },
      "outputs": [
        {
          "output_type": "stream",
          "name": "stdout",
          "text": [
            "12.0\n",
            "21.0\n",
            "102.0\n",
            "120.0\n",
            "201.0\n",
            "210.0\n"
          ]
        }
      ],
      "source": [
        "### Write your code bellow this comment.\n",
        "\n",
        "def task_5_val(x):\n",
        "    b = ''\n",
        "    for i in range(len(x)):\n",
        "        b += str(x.pop())\n",
        "    return(float(b[::-1]))\n",
        "\n",
        "perm = itertools.permutations([0,1,2])\n",
        "for i in perm:\n",
        "    drop = list(itertools.dropwhile(lambda x: x==0, i))\n",
        "    print(task_5_val(drop))\n",
        "\n"
      ]
    },
    {
      "cell_type": "code",
      "source": [
        "%%shell\n",
        "jupyter nbconvert --to html /content/Lab02_Rahul_Gupta.ipynb"
      ],
      "metadata": {
        "colab": {
          "base_uri": "https://localhost:8080/"
        },
        "id": "VP1e1DJgZxe2",
        "outputId": "621ec60a-5ada-4da2-e0a6-783a110d0886"
      },
      "execution_count": 13,
      "outputs": [
        {
          "output_type": "stream",
          "name": "stdout",
          "text": [
            "[NbConvertApp] Converting notebook /content/Lab02_Rahul_Gupta.ipynb to html\n",
            "[NbConvertApp] Writing 597288 bytes to /content/Lab02_Rahul_Gupta.html\n"
          ]
        },
        {
          "output_type": "execute_result",
          "data": {
            "text/plain": []
          },
          "metadata": {},
          "execution_count": 13
        }
      ]
    }
  ],
  "metadata": {
    "kernelspec": {
      "display_name": "Python 3",
      "language": "python",
      "name": "python3"
    },
    "language_info": {
      "codemirror_mode": {
        "name": "ipython",
        "version": 3
      },
      "file_extension": ".py",
      "mimetype": "text/x-python",
      "name": "python",
      "nbconvert_exporter": "python",
      "pygments_lexer": "ipython3",
      "version": "3.8.8"
    },
    "colab": {
      "provenance": []
    }
  },
  "nbformat": 4,
  "nbformat_minor": 0
}